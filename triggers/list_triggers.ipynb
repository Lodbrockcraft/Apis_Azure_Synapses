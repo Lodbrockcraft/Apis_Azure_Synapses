{
 "cells": [
  {
   "attachments": {},
   "cell_type": "markdown",
   "metadata": {},
   "source": [
    "# This code is intended to return a list of all existing triggers in the workspace"
   ]
  },
  {
   "cell_type": "code",
   "execution_count": null,
   "metadata": {},
   "outputs": [],
   "source": [
    "# documentação\n",
    "# https://learn.microsoft.com/en-us/rest/api/synapse/data-plane/trigger\n",
    "# https://learn.microsoft.com/en-us/rest/api/synapse/data-plane/trigger/get-triggers-by-workspace?tabs=HTTP"
   ]
  },
  {
   "attachments": {},
   "cell_type": "markdown",
   "metadata": {},
   "source": [
    "# Import libarys"
   ]
  },
  {
   "cell_type": "code",
   "execution_count": 29,
   "metadata": {},
   "outputs": [],
   "source": [
    "import requests\n",
    "import adal\n",
    "import pandas as pd\n",
    "import json "
   ]
  },
  {
   "attachments": {},
   "cell_type": "markdown",
   "metadata": {},
   "source": [
    "# Create Parameters\n",
    "\n",
    "definition of the parameters that will be used in the commands below"
   ]
  },
  {
   "cell_type": "code",
   "execution_count": 5,
   "metadata": {},
   "outputs": [],
   "source": [
    "tenant_id = ''\n",
    "client_id = ''\n",
    "client_secret = ''\n",
    "\n",
    "authority_url = f'https://login.microsoftonline.com/{tenant_id}'\n",
    "resource_url = 'https://dev.azuresynapse.net'\n",
    "\n",
    "workspace_name = ''\n",
    "resourceGroupName = ''\n",
    "subscriptionId = ''"
   ]
  },
  {
   "attachments": {},
   "cell_type": "markdown",
   "metadata": {},
   "source": [
    "# Create Token\n",
    "creation of token for api validation\n",
    "we use the adal library to generate the token"
   ]
  },
  {
   "cell_type": "code",
   "execution_count": 3,
   "metadata": {},
   "outputs": [],
   "source": [
    "context = adal.AuthenticationContext(authority=authority_url,\n",
    "                                     validate_authority=True,\n",
    "                                     api_version=None)\n",
    "\n",
    "token = context.acquire_token_with_client_credentials(resource_url, client_id, client_secret)\n",
    "\n",
    "access_token = token.get('accessToken')"
   ]
  },
  {
   "attachments": {},
   "cell_type": "markdown",
   "metadata": {},
   "source": [
    "# Api url definition"
   ]
  },
  {
   "cell_type": "code",
   "execution_count": 6,
   "metadata": {},
   "outputs": [],
   "source": [
    "url_api = f'https://{workspace_name}.dev.azuresynapse.net/triggers?api-version=2020-12-01'"
   ]
  },
  {
   "attachments": {},
   "cell_type": "markdown",
   "metadata": {},
   "source": [
    "# Get api\n",
    "making the api call.\n",
    "if print returns 200 the call is ok"
   ]
  },
  {
   "cell_type": "code",
   "execution_count": null,
   "metadata": {},
   "outputs": [],
   "source": [
    "headers = {\"Authorization\": f\"Bearer {access_token}\"}\n",
    "response = requests.get(url_api, headers=headers)\n",
    "print(response)"
   ]
  },
  {
   "attachments": {},
   "cell_type": "markdown",
   "metadata": {},
   "source": [
    "# Normalizing return in json for a pandas dataframe"
   ]
  },
  {
   "cell_type": "code",
   "execution_count": 37,
   "metadata": {},
   "outputs": [],
   "source": [
    "js = response.json()\n",
    "df = pd.json_normalize(data=js['value'])"
   ]
  },
  {
   "cell_type": "code",
   "execution_count": null,
   "metadata": {},
   "outputs": [],
   "source": [
    "display(df)"
   ]
  }
 ],
 "metadata": {
  "kernelspec": {
   "display_name": "Python 3",
   "language": "python",
   "name": "python3"
  },
  "language_info": {
   "codemirror_mode": {
    "name": "ipython",
    "version": 3
   },
   "file_extension": ".py",
   "mimetype": "text/x-python",
   "name": "python",
   "nbconvert_exporter": "python",
   "pygments_lexer": "ipython3",
   "version": "3.11.2"
  },
  "orig_nbformat": 4
 },
 "nbformat": 4,
 "nbformat_minor": 2
}
