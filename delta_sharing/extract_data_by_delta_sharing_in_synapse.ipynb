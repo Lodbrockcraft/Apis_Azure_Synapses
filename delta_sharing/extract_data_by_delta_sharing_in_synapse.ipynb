{
 "cells": [
  {
   "cell_type": "code",
   "execution_count": null,
   "metadata": {},
   "outputs": [],
   "source": [
    "%%configure -f \\\n",
    "# The delta_sharing library used in this experiment does not work well in versions >= Spark 3.0.0. \n",
    "# So it is necessary to set the notebook to a compatible version.\n",
    "{\n",
    "    'conf': {\n",
    "        'spark.jars.packages':  'io.delta:delta-sharing-spark_2.12:0.3.0'\n",
    "    }\n",
    "}"
   ]
  },
  {
   "cell_type": "code",
   "execution_count": null,
   "metadata": {},
   "outputs": [],
   "source": [
    "import delta_sharing"
   ]
  },
  {
   "cell_type": "code",
   "execution_count": null,
   "metadata": {},
   "outputs": [],
   "source": [
    "# The config_delta.share file is generated when configuring data sharing via delta share\n",
    "config_file_url = 'config_delta.share file path'"
   ]
  },
  {
   "cell_type": "code",
   "execution_count": null,
   "metadata": {},
   "outputs": [],
   "source": [
    "# Printing all shared tables\n",
    "\n",
    "client = delta_sharing.SharingClient(config_file_url)\n",
    "\n",
    "tables = client.list_all_tables()\n",
    "for table in tables:\n",
    "\n",
    "    print(f'name = {table.name}, share = {table.share}, schema = {table.schema}')"
   ]
  },
  {
   "cell_type": "code",
   "execution_count": null,
   "metadata": {},
   "outputs": [],
   "source": [
    "#  Read table from delta sharing\n",
    "table_url = f\"{config_file_url}#share.schema.table_name\"\n",
    "\n",
    "shared_df = spark.read.format(\"deltaSharing\").load(table_url)\n",
    "\n",
    "shared_df.show()"
   ]
  }
 ],
 "metadata": {
  "language_info": {
   "name": "python"
  }
 },
 "nbformat": 4,
 "nbformat_minor": 2
}
