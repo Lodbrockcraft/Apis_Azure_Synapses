{
  "cells": [
    {
      "attachments": {},
      "cell_type": "markdown",
      "metadata": {
        "nteract": {
          "transient": {
            "deleting": false
          }
        }
      },
      "source": [
        "# Documantation\n",
        "\n",
        "- https://docs.delta.io/latest/optimizations-oss.html#language-python\n",
        "- https://www.youtube.com/watch?v=r2-pOVsHX5Y&t=150s&ab_channel=AzureSynapseAnalytics\n",
        "- https://learn.microsoft.com/en-us/azure/databricks/delta/optimize\n"
      ]
    },
    {
      "attachments": {},
      "cell_type": "markdown",
      "metadata": {
        "nteract": {
          "transient": {
            "deleting": false
          }
        }
      },
      "source": [
        "# Import Packages"
      ]
    },
    {
      "cell_type": "code",
      "execution_count": null,
      "metadata": {
        "jupyter": {
          "outputs_hidden": false,
          "source_hidden": false
        },
        "nteract": {
          "transient": {
            "deleting": false
          }
        }
      },
      "outputs": [],
      "source": [
        "from delta.tables import *\n",
        "\n",
        "# provides utilities for working with various file systems, including Azure Data Lake Storage Gen2 (ADLS Gen2) and Azure Blob Storage. \n",
        "from notebookutils import mssparkutils"
      ]
    },
    {
      "attachments": {},
      "cell_type": "markdown",
      "metadata": {
        "nteract": {
          "transient": {
            "deleting": false
          }
        }
      },
      "source": [
        "# Create Parameters"
      ]
    },
    {
      "cell_type": "code",
      "execution_count": null,
      "metadata": {
        "jupyter": {
          "outputs_hidden": false,
          "source_hidden": false
        },
        "nteract": {
          "transient": {
            "deleting": false
          }
        },
        "tags": [
          "parameters"
        ]
      },
      "outputs": [],
      "source": [
        "MainPath = f'{your-blobstorage}.dfs.core.windows.net'\n",
        "containers = f'{your-containers}'\n",
        "\n",
        "# if you have a subfolder in the container\n",
        "ZonePath = ''\n",
        "\n",
        "containerspath = f'abfss://{containers}{MainPath}/{ZonePath}'"
      ]
    },
    {
      "attachments": {},
      "cell_type": "markdown",
      "metadata": {
        "nteract": {
          "transient": {
            "deleting": false
          }
        }
      },
      "source": [
        "# Lists all the folders in your container and creates a list with the paths of each folder to perform the following optimization.\n",
        "\n",
        "In this case, this part of the solution was developed for a container that only contains delta files stored"
      ]
    },
    {
      "cell_type": "code",
      "execution_count": null,
      "metadata": {
        "jupyter": {
          "outputs_hidden": false,
          "source_hidden": false
        },
        "nteract": {
          "transient": {
            "deleting": false
          }
        }
      },
      "outputs": [],
      "source": [
        "path = mssparkutils.fs.ls(containerspath)\n",
        "\n",
        "lista = []\n",
        "\n",
        "for file in path:\n",
        "    lista.append(file.path)\n",
        "\n",
        "# As we had some duplicate lines when creating the list, we created this step to remove duplicate lines.\n",
        "lista = list(dict.fromkeys(lista))\n",
        "\n",
        "print(lista)"
      ]
    },
    {
      "attachments": {},
      "cell_type": "markdown",
      "metadata": {
        "nteract": {
          "transient": {
            "deleting": false
          }
        }
      },
      "source": [
        "# Apply the optimization to each row in the list"
      ]
    },
    {
      "cell_type": "code",
      "execution_count": null,
      "metadata": {
        "jupyter": {
          "outputs_hidden": false,
          "source_hidden": false
        },
        "nteract": {
          "transient": {
            "deleting": false
          }
        }
      },
      "outputs": [],
      "source": [
        "log = []\n",
        "\n",
        "for l in lista:\n",
        "    try:\n",
        "        deltaTable = DeltaTable.forPath(spark, l)\n",
        "        deltaTable.optimize().executeCompaction()\n",
        "    except Exception as e:\n",
        "        log.append(str(e))\n",
        "\n",
        "# Displaying the errors stored in the log list\n",
        "for error in log:\n",
        "    print(error)"
      ]
    }
  ],
  "metadata": {
    "kernel_info": {
      "name": "synapse_pyspark"
    },
    "kernelspec": {
      "display_name": "Synapse PySpark",
      "language": "Python",
      "name": "synapse_pyspark"
    },
    "language_info": {
      "name": "python"
    },
    "save_output": true,
    "synapse_widget": {
      "state": {},
      "version": "0.1"
    }
  },
  "nbformat": 4,
  "nbformat_minor": 2
}
